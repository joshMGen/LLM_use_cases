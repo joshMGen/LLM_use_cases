{
 "cells": [
  {
   "cell_type": "code",
   "execution_count": 2,
   "metadata": {},
   "outputs": [],
   "source": [
    "from gpt4all import GPT4All"
   ]
  },
  {
   "cell_type": "code",
   "execution_count": 4,
   "metadata": {},
   "outputs": [],
   "source": [
    "rift_model = GPT4All(r\"/home/pslearner/LLM_models/rift-coder-v0-7b-q4_0.gguf\")"
   ]
  },
  {
   "cell_type": "markdown",
   "metadata": {},
   "source": [
    "# WELCOME!"
   ]
  },
  {
   "cell_type": "code",
   "execution_count": 12,
   "metadata": {},
   "outputs": [
    {
     "name": "stdout",
     "output_type": "stream",
     "text": [
      "{'role': 'system', 'content': 'You are a friendly AI greeting people to a lab'}\n",
      "{'role': 'user', 'content': 'I am excited to start this lab!'}\n",
      "{'role': 'assistant', 'content': \"Hello, I'm your AI assistant. How do you want me\"}\n"
     ]
    }
   ],
   "source": [
    "#small example of generate and available parameters\n",
    "with rift_model.chat_session(system_prompt=\"You are a friendly AI greeting people to a lab\"):\n",
    "    # note: this AI model will not be able to answer your specific lab questions.\n",
    "    response = rift_model.generate(prompt= \"I am excited to start this lab!\", max_tokens=15, temp=0.7, streaming=False)\n",
    "    for x in rift_model.current_chat_session:\n",
    "        print(x)"
   ]
  },
  {
   "cell_type": "markdown",
   "metadata": {},
   "source": [
    "## Open Ended Text Generation"
   ]
  },
  {
   "cell_type": "code",
   "execution_count": null,
   "metadata": {},
   "outputs": [],
   "source": [
    "with rift_model.chat_session(system_prompt=\"\"):\n",
    "\n",
    "    for x in rift_model.current_chat_session:\n",
    "        print(x)"
   ]
  },
  {
   "cell_type": "markdown",
   "metadata": {},
   "source": [
    "## Conversation Chatbot"
   ]
  },
  {
   "cell_type": "code",
   "execution_count": null,
   "metadata": {},
   "outputs": [],
   "source": [
    "with rift_model.chat_session(system_prompt=\"\"):\n",
    "    pass"
   ]
  },
  {
   "cell_type": "markdown",
   "metadata": {},
   "source": [
    "## Retrieval & Relevance"
   ]
  },
  {
   "cell_type": "code",
   "execution_count": null,
   "metadata": {},
   "outputs": [],
   "source": [
    "systemPrompt = \"\"\"\n",
    "enter your prompt here\n",
    " \"\"\"\n",
    "with rift_model.chat_session(system_prompt=systemPrompt):\n",
    "    # retrieval code here\n",
    "    for x in rift_model.current_chat_session:\n",
    "        print(x)\n"
   ]
  },
  {
   "cell_type": "markdown",
   "metadata": {},
   "source": [
    "## Code generation"
   ]
  },
  {
   "cell_type": "code",
   "execution_count": null,
   "metadata": {},
   "outputs": [],
   "source": [
    "with rift_model.chat_session():\n",
    "\n",
    "    for x in rift_model.current_chat_session:\n",
    "        print(x)"
   ]
  },
  {
   "cell_type": "markdown",
   "metadata": {},
   "source": [
    "## Sentiment Analysis"
   ]
  },
  {
   "cell_type": "code",
   "execution_count": null,
   "metadata": {},
   "outputs": [],
   "source": [
    "systemPrompt = \"\"\"\n",
    "    enter your prompt here\n",
    " \"\"\"\n",
    "with rift_model.chat_session(system_prompt=systemPrompt):\n",
    "    \n",
    "    for x in rift_model.current_chat_session:\n",
    "        print(x)\n"
   ]
  },
  {
   "cell_type": "code",
   "execution_count": null,
   "metadata": {},
   "outputs": [],
   "source": []
  }
 ],
 "metadata": {
  "kernelspec": {
   "display_name": "Python 3",
   "language": "python",
   "name": "python3"
  },
  "language_info": {
   "codemirror_mode": {
    "name": "ipython",
    "version": 3
   },
   "file_extension": ".py",
   "mimetype": "text/x-python",
   "name": "python",
   "nbconvert_exporter": "python",
   "pygments_lexer": "ipython3",
   "version": "3.11.0"
  }
 },
 "nbformat": 4,
 "nbformat_minor": 2
}
